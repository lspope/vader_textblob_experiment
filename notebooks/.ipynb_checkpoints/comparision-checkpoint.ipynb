{
 "cells": [
  {
   "cell_type": "markdown",
   "metadata": {},
   "source": [
    "# Human labeled sentiment compared to VADER and Text Blob sentiment"
   ]
  },
  {
   "cell_type": "code",
   "execution_count": 2,
   "metadata": {},
   "outputs": [],
   "source": [
    "# Import the required libraries\n",
    "import pandas as pd\n",
    "import numpy as np\n",
    "\n",
    "import matplotlib.pyplot as plt\n",
    "import matplotlib.colors\n",
    "import seaborn as sns\n",
    "\n",
    "from vaderSentiment.vaderSentiment import SentimentIntensityAnalyzer\n",
    "from textblob import TextBlob\n",
    "\n",
    "%matplotlib inline"
   ]
  },
  {
   "cell_type": "code",
   "execution_count": 3,
   "metadata": {},
   "outputs": [],
   "source": [
    "# Function Definitions\n",
    "\n",
    "def get_pretty_percent(x, y):\n",
    "    percentage = round(x/y, 3)\n",
    "    return \"{:.2%}\".format(percentage)\n",
    "\n",
    "def get_vader_sentiment(analyzer, tweet):\n",
    "    tweet = tweet.replace('#','')  # we want things like #fail to be included in text\n",
    "    vader_scores = analyzer.polarity_scores(tweet)\n",
    "    compound_score = vader_scores['compound']\n",
    "    vader_sentiment = None\n",
    "    # using thresholds from VADER developers/researchers are\n",
    "    if (compound_score >= 0.05):\n",
    "        vader_sentiment = 'positive'\n",
    "    elif (compound_score < 0.05 and compound_score > -0.05):\n",
    "        vader_sentiment = 'neutral'\n",
    "    elif (compound_score <= -0.05):\n",
    "        vader_sentiment = 'negative'\n",
    "    return vader_sentiment\n",
    "\n",
    "def get_text_blob_sentiment(tweet):\n",
    "    polarity = TextBlob(tweet).sentiment.polarity\n",
    "    # The polarity score is a float within the range [-1.0, 1.0]. \n",
    "    textblob_sentiment = None\n",
    "    if (polarity > 0):\n",
    "        textblob_sentiment = 'positive'\n",
    "    elif (polarity == 0):\n",
    "        textblob_sentiment = 'neutral'\n",
    "    elif (polarity < 0):\n",
    "        textblob_sentiment = 'negative'\n",
    "    return textblob_sentiment    \n"
   ]
  },
  {
   "cell_type": "markdown",
   "metadata": {},
   "source": [
    "#### Let's start by loading the Google and Apple tweets (which appear to be gathered from a previous SXSW)."
   ]
  },
  {
   "cell_type": "code",
   "execution_count": 4,
   "metadata": {},
   "outputs": [
    {
     "name": "stdout",
     "output_type": "stream",
     "text": [
      "(8720, 5)\n"
     ]
    },
    {
     "data": {
      "text/html": [
       "<div>\n",
       "<style scoped>\n",
       "    .dataframe tbody tr th:only-of-type {\n",
       "        vertical-align: middle;\n",
       "    }\n",
       "\n",
       "    .dataframe tbody tr th {\n",
       "        vertical-align: top;\n",
       "    }\n",
       "\n",
       "    .dataframe thead th {\n",
       "        text-align: right;\n",
       "    }\n",
       "</style>\n",
       "<table border=\"1\" class=\"dataframe\">\n",
       "  <thead>\n",
       "    <tr style=\"text-align: right;\">\n",
       "      <th></th>\n",
       "      <th>id</th>\n",
       "      <th>tweet_text</th>\n",
       "      <th>labeled_brand_or_product</th>\n",
       "      <th>detected_emotion</th>\n",
       "      <th>human_sentiment</th>\n",
       "    </tr>\n",
       "  </thead>\n",
       "  <tbody>\n",
       "    <tr>\n",
       "      <th>0</th>\n",
       "      <td>0</td>\n",
       "      <td>.@wesley83 I have a 3G iPhone. After 3 hrs twe...</td>\n",
       "      <td>iPhone</td>\n",
       "      <td>Negative emotion</td>\n",
       "      <td>negative</td>\n",
       "    </tr>\n",
       "    <tr>\n",
       "      <th>1</th>\n",
       "      <td>1</td>\n",
       "      <td>@jessedee Know about @fludapp ? Awesome iPad/i...</td>\n",
       "      <td>iPad or iPhone App</td>\n",
       "      <td>Positive emotion</td>\n",
       "      <td>positive</td>\n",
       "    </tr>\n",
       "    <tr>\n",
       "      <th>2</th>\n",
       "      <td>2</td>\n",
       "      <td>@swonderlin Can not wait for #iPad 2 also. The...</td>\n",
       "      <td>iPad</td>\n",
       "      <td>Positive emotion</td>\n",
       "      <td>positive</td>\n",
       "    </tr>\n",
       "  </tbody>\n",
       "</table>\n",
       "</div>"
      ],
      "text/plain": [
       "   id                                         tweet_text  \\\n",
       "0   0  .@wesley83 I have a 3G iPhone. After 3 hrs twe...   \n",
       "1   1  @jessedee Know about @fludapp ? Awesome iPad/i...   \n",
       "2   2  @swonderlin Can not wait for #iPad 2 also. The...   \n",
       "\n",
       "  labeled_brand_or_product  detected_emotion human_sentiment  \n",
       "0                   iPhone  Negative emotion        negative  \n",
       "1       iPad or iPhone App  Positive emotion        positive  \n",
       "2                     iPad  Positive emotion        positive  "
      ]
     },
     "execution_count": 4,
     "metadata": {},
     "output_type": "execute_result"
    }
   ],
   "source": [
    "tweets = pd.read_csv('../data/prepped_sxsw_tweets.csv')\n",
    "print(tweets.shape)\n",
    "tweets.head(3)"
   ]
  },
  {
   "cell_type": "markdown",
   "metadata": {},
   "source": [
    "Cool! We see the sentiment assigned/labeled by human(s). Let's get sentiment from the VADER and Text Blob sentiment tools.\n",
    "\n",
    "__VADER__ : Use the compound score to label the tweet as Positive/Neutral/Negative. \n",
    "\n",
    "The thresholds from VADER developers/researchers are:\n",
    "* positive sentiment: compound score >= 0.05\n",
    "* neutral sentiment: (compound score > -0.05) and (compound score < 0.05)\n",
    "* negative sentiment: compound score <= -0.05\n",
    "\n",
    "__Text Blob__ : Use the sentiment polarity score to label the tweet as Positive/Neutral/Negative. \n",
    "\n",
    "The thresholds from Text Blob developers/researchers are:\n",
    "*  The polarity score is a float within the range -1.0, 1.0\n"
   ]
  },
  {
   "cell_type": "code",
   "execution_count": 5,
   "metadata": {},
   "outputs": [
    {
     "data": {
      "text/html": [
       "<div>\n",
       "<style scoped>\n",
       "    .dataframe tbody tr th:only-of-type {\n",
       "        vertical-align: middle;\n",
       "    }\n",
       "\n",
       "    .dataframe tbody tr th {\n",
       "        vertical-align: top;\n",
       "    }\n",
       "\n",
       "    .dataframe thead th {\n",
       "        text-align: right;\n",
       "    }\n",
       "</style>\n",
       "<table border=\"1\" class=\"dataframe\">\n",
       "  <thead>\n",
       "    <tr style=\"text-align: right;\">\n",
       "      <th></th>\n",
       "      <th>id</th>\n",
       "      <th>tweet_text</th>\n",
       "      <th>labeled_brand_or_product</th>\n",
       "      <th>detected_emotion</th>\n",
       "      <th>human_sentiment</th>\n",
       "      <th>vader_sentiment</th>\n",
       "    </tr>\n",
       "  </thead>\n",
       "  <tbody>\n",
       "    <tr>\n",
       "      <th>0</th>\n",
       "      <td>0</td>\n",
       "      <td>.@wesley83 I have a 3G iPhone. After 3 hrs twe...</td>\n",
       "      <td>iPhone</td>\n",
       "      <td>Negative emotion</td>\n",
       "      <td>negative</td>\n",
       "      <td>negative</td>\n",
       "    </tr>\n",
       "    <tr>\n",
       "      <th>1</th>\n",
       "      <td>1</td>\n",
       "      <td>@jessedee Know about @fludapp ? Awesome iPad/i...</td>\n",
       "      <td>iPad or iPhone App</td>\n",
       "      <td>Positive emotion</td>\n",
       "      <td>positive</td>\n",
       "      <td>positive</td>\n",
       "    </tr>\n",
       "    <tr>\n",
       "      <th>2</th>\n",
       "      <td>2</td>\n",
       "      <td>@swonderlin Can not wait for #iPad 2 also. The...</td>\n",
       "      <td>iPad</td>\n",
       "      <td>Positive emotion</td>\n",
       "      <td>positive</td>\n",
       "      <td>neutral</td>\n",
       "    </tr>\n",
       "  </tbody>\n",
       "</table>\n",
       "</div>"
      ],
      "text/plain": [
       "   id                                         tweet_text  \\\n",
       "0   0  .@wesley83 I have a 3G iPhone. After 3 hrs twe...   \n",
       "1   1  @jessedee Know about @fludapp ? Awesome iPad/i...   \n",
       "2   2  @swonderlin Can not wait for #iPad 2 also. The...   \n",
       "\n",
       "  labeled_brand_or_product  detected_emotion human_sentiment vader_sentiment  \n",
       "0                   iPhone  Negative emotion        negative        negative  \n",
       "1       iPad or iPhone App  Positive emotion        positive        positive  \n",
       "2                     iPad  Positive emotion        positive         neutral  "
      ]
     },
     "execution_count": 5,
     "metadata": {},
     "output_type": "execute_result"
    }
   ],
   "source": [
    "# Get the VADER sentiments\n",
    "analyzer = SentimentIntensityAnalyzer()\n",
    "tweets['vader_sentiment'] = tweets.apply(lambda row: get_vader_sentiment(analyzer, row['tweet_text']), axis=1)\n",
    "tweets.head(3)"
   ]
  },
  {
   "cell_type": "code",
   "execution_count": 6,
   "metadata": {},
   "outputs": [
    {
     "data": {
      "text/html": [
       "<div>\n",
       "<style scoped>\n",
       "    .dataframe tbody tr th:only-of-type {\n",
       "        vertical-align: middle;\n",
       "    }\n",
       "\n",
       "    .dataframe tbody tr th {\n",
       "        vertical-align: top;\n",
       "    }\n",
       "\n",
       "    .dataframe thead th {\n",
       "        text-align: right;\n",
       "    }\n",
       "</style>\n",
       "<table border=\"1\" class=\"dataframe\">\n",
       "  <thead>\n",
       "    <tr style=\"text-align: right;\">\n",
       "      <th></th>\n",
       "      <th>id</th>\n",
       "      <th>tweet_text</th>\n",
       "      <th>labeled_brand_or_product</th>\n",
       "      <th>detected_emotion</th>\n",
       "      <th>human_sentiment</th>\n",
       "      <th>vader_sentiment</th>\n",
       "      <th>text_blob_sentiment</th>\n",
       "    </tr>\n",
       "  </thead>\n",
       "  <tbody>\n",
       "    <tr>\n",
       "      <th>0</th>\n",
       "      <td>0</td>\n",
       "      <td>.@wesley83 I have a 3G iPhone. After 3 hrs twe...</td>\n",
       "      <td>iPhone</td>\n",
       "      <td>Negative emotion</td>\n",
       "      <td>negative</td>\n",
       "      <td>negative</td>\n",
       "      <td>negative</td>\n",
       "    </tr>\n",
       "    <tr>\n",
       "      <th>1</th>\n",
       "      <td>1</td>\n",
       "      <td>@jessedee Know about @fludapp ? Awesome iPad/i...</td>\n",
       "      <td>iPad or iPhone App</td>\n",
       "      <td>Positive emotion</td>\n",
       "      <td>positive</td>\n",
       "      <td>positive</td>\n",
       "      <td>positive</td>\n",
       "    </tr>\n",
       "    <tr>\n",
       "      <th>2</th>\n",
       "      <td>2</td>\n",
       "      <td>@swonderlin Can not wait for #iPad 2 also. The...</td>\n",
       "      <td>iPad</td>\n",
       "      <td>Positive emotion</td>\n",
       "      <td>positive</td>\n",
       "      <td>neutral</td>\n",
       "      <td>negative</td>\n",
       "    </tr>\n",
       "  </tbody>\n",
       "</table>\n",
       "</div>"
      ],
      "text/plain": [
       "   id                                         tweet_text  \\\n",
       "0   0  .@wesley83 I have a 3G iPhone. After 3 hrs twe...   \n",
       "1   1  @jessedee Know about @fludapp ? Awesome iPad/i...   \n",
       "2   2  @swonderlin Can not wait for #iPad 2 also. The...   \n",
       "\n",
       "  labeled_brand_or_product  detected_emotion human_sentiment vader_sentiment  \\\n",
       "0                   iPhone  Negative emotion        negative        negative   \n",
       "1       iPad or iPhone App  Positive emotion        positive        positive   \n",
       "2                     iPad  Positive emotion        positive         neutral   \n",
       "\n",
       "  text_blob_sentiment  \n",
       "0            negative  \n",
       "1            positive  \n",
       "2            negative  "
      ]
     },
     "execution_count": 6,
     "metadata": {},
     "output_type": "execute_result"
    }
   ],
   "source": [
    "# Get the Text Blob sentiments\n",
    "tweets['text_blob_sentiment'] = tweets.apply(lambda row: get_text_blob_sentiment(row['tweet_text']), axis=1)\n",
    "tweets.head(3)"
   ]
  },
  {
   "cell_type": "markdown",
   "metadata": {},
   "source": [
    "All right.. now let's compare the Human-labeled Sentiment to what the two sentiment tools decided."
   ]
  },
  {
   "cell_type": "code",
   "execution_count": 7,
   "metadata": {},
   "outputs": [],
   "source": [
    "by_human = tweets.groupby(['human_sentiment'])['tweet_text'].count()\n",
    "by_vader = tweets.groupby(['vader_sentiment'])['tweet_text'].count()\n",
    "by_textblob =  tweets.groupby(['text_blob_sentiment'])['tweet_text'].count()"
   ]
  },
  {
   "cell_type": "code",
   "execution_count": 8,
   "metadata": {},
   "outputs": [
    {
     "data": {
      "image/png": "[encoded data removed]",
      "text/plain": [
       "<Figure size 1080x720 with 3 Axes>"
      ]
     },
     "metadata": {
      "needs_background": "light"
     },
     "output_type": "display_data"
    }
   ],
   "source": [
    "plt.subplot(1, 3, 1)\n",
    "h_labels = by_human.values\n",
    "plt.title('SXSW Apple and Google Tweets: Sentiment Comparision', size='16')\n",
    "by_human.plot.bar(fontsize=14, rot=50, alpha=0.95, figsize=(15,10), color='lightblue')\n",
    "plt.ylabel('Number of Tweets',size=14)\n",
    "for i in range(3):\n",
    "    plt.text(x=i, y=h_labels[i], s=h_labels[i], size=14, rotation=45, color='black')\n",
    "\n",
    "plt.subplot(1, 3, 2)\n",
    "v_labels = by_vader.values\n",
    "by_vader.plot.bar(fontsize=14, rot=50, alpha=0.9, figsize=(10,10), color='gray')\n",
    "for i in range(3):\n",
    "    plt.text(x=i, y=v_labels[i], s=v_labels[i], size=14, rotation=45, color='black')\n",
    "\n",
    "plt.subplot(1, 3, 3)\n",
    "tb_labels = by_textblob.values\n",
    "by_textblob.plot.bar(fontsize=14, rot=50, alpha=0.9, figsize=(15,10), color='lightgreen')\n",
    "for i in range(3):\n",
    "    plt.text(x=i, y=tb_labels[i], s=tb_labels[i], size=14, rotation=45, color='black')\n",
    "\n",
    "plt.yticks(size=14)\n",
    "plt.tight_layout()\n",
    "plt.show()\n"
   ]
  },
  {
   "cell_type": "markdown",
   "metadata": {},
   "source": [
    "\n",
    "The two different tools do seem to be pretty comparable, with very similar breakdowns for Negative, Neutral, and Positive tweets.\n"
   ]
  },
  {
   "cell_type": "code",
   "execution_count": 9,
   "metadata": {},
   "outputs": [
    {
     "name": "stdout",
     "output_type": "stream",
     "text": [
      "12.90% VADER Negative\n",
      "41.70% VADER Neutral\n",
      "45.40% VADER Positive\n",
      "\n",
      "13.70% Text Blob Negative\n",
      "37.00% Text Blob Neutral\n",
      "49.30% Text Blob Positive\n"
     ]
    }
   ],
   "source": [
    "for items in by_vader.iteritems(): \n",
    "    print(get_pretty_percent(items[1], tweets.shape[0]), 'VADER ' + items[0].capitalize() )\n",
    "print(     )\n",
    "for items in by_textblob.iteritems(): \n",
    "    print(get_pretty_percent(items[1], tweets.shape[0]), 'Text Blob ' + items[0].capitalize() )"
   ]
  },
  {
   "cell_type": "markdown",
   "metadata": {},
   "source": [
    "No big surprises, there is a noteable difference between the Human and tool sentiment labels.  \n",
    "\n",
    "The dataset provider mentions that the human-labeled sentiment \"directed at\" a brand or product. This may account for the difference.\n",
    "\n"
   ]
  },
  {
   "cell_type": "code",
   "execution_count": 10,
   "metadata": {},
   "outputs": [
    {
     "name": "stdout",
     "output_type": "stream",
     "text": [
      "47.10% of Tweets had differing Human and VADER sentiments\n",
      "51.50% of Tweets had differing Human and Text Blob sentiment\n"
     ]
    }
   ],
   "source": [
    "sentiment_diff_v = tweets[tweets['human_sentiment'] != tweets['vader_sentiment']]\n",
    "sentiment_diff_tb = tweets[tweets['human_sentiment'] != tweets['text_blob_sentiment']]\n",
    "\n",
    "print(get_pretty_percent(sentiment_diff_v.shape[0], tweets.shape[0]), 'of Tweets had differing Human and VADER sentiments')\n",
    "print(get_pretty_percent(sentiment_diff_tb.shape[0], tweets.shape[0]), 'of Tweets had differing Human and Text Blob sentiment')"
   ]
  },
  {
   "cell_type": "markdown",
   "metadata": {},
   "source": [
    "Let's try this with another, similiar dataset - Tweets that mention Apple products."
   ]
  },
  {
   "cell_type": "code",
   "execution_count": 11,
   "metadata": {},
   "outputs": [
    {
     "data": {
      "text/html": [
       "<div>\n",
       "<style scoped>\n",
       "    .dataframe tbody tr th:only-of-type {\n",
       "        vertical-align: middle;\n",
       "    }\n",
       "\n",
       "    .dataframe tbody tr th {\n",
       "        vertical-align: top;\n",
       "    }\n",
       "\n",
       "    .dataframe thead th {\n",
       "        text-align: right;\n",
       "    }\n",
       "</style>\n",
       "<table border=\"1\" class=\"dataframe\">\n",
       "  <thead>\n",
       "    <tr style=\"text-align: right;\">\n",
       "      <th></th>\n",
       "      <th>id</th>\n",
       "      <th>text</th>\n",
       "      <th>sentiment</th>\n",
       "      <th>human_sentiment</th>\n",
       "    </tr>\n",
       "  </thead>\n",
       "  <tbody>\n",
       "    <tr>\n",
       "      <th>0</th>\n",
       "      <td>0</td>\n",
       "      <td>Wow. Yall needa step it up @Apple RT @heynyla:...</td>\n",
       "      <td>-1</td>\n",
       "      <td>negative</td>\n",
       "    </tr>\n",
       "    <tr>\n",
       "      <th>1</th>\n",
       "      <td>1</td>\n",
       "      <td>What Happened To Apple Inc?   http://t.co/FJEX...</td>\n",
       "      <td>0</td>\n",
       "      <td>neutral</td>\n",
       "    </tr>\n",
       "    <tr>\n",
       "      <th>2</th>\n",
       "      <td>2</td>\n",
       "      <td>Thank u @apple I can now compile all of the pi...</td>\n",
       "      <td>1</td>\n",
       "      <td>positive</td>\n",
       "    </tr>\n",
       "  </tbody>\n",
       "</table>\n",
       "</div>"
      ],
      "text/plain": [
       "   id                                               text  sentiment  \\\n",
       "0   0  Wow. Yall needa step it up @Apple RT @heynyla:...         -1   \n",
       "1   1  What Happened To Apple Inc?   http://t.co/FJEX...          0   \n",
       "2   2  Thank u @apple I can now compile all of the pi...          1   \n",
       "\n",
       "  human_sentiment  \n",
       "0        negative  \n",
       "1         neutral  \n",
       "2        positive  "
      ]
     },
     "execution_count": 11,
     "metadata": {},
     "output_type": "execute_result"
    }
   ],
   "source": [
    "apple_tweets = pd.read_csv('../data/prepped_apple_tweets.csv')\n",
    "apple_tweets.head(3)"
   ]
  },
  {
   "cell_type": "code",
   "execution_count": 12,
   "metadata": {},
   "outputs": [
    {
     "data": {
      "text/html": [
       "<div>\n",
       "<style scoped>\n",
       "    .dataframe tbody tr th:only-of-type {\n",
       "        vertical-align: middle;\n",
       "    }\n",
       "\n",
       "    .dataframe tbody tr th {\n",
       "        vertical-align: top;\n",
       "    }\n",
       "\n",
       "    .dataframe thead th {\n",
       "        text-align: right;\n",
       "    }\n",
       "</style>\n",
       "<table border=\"1\" class=\"dataframe\">\n",
       "  <thead>\n",
       "    <tr style=\"text-align: right;\">\n",
       "      <th></th>\n",
       "      <th>id</th>\n",
       "      <th>text</th>\n",
       "      <th>sentiment</th>\n",
       "      <th>human_sentiment</th>\n",
       "      <th>vader_sentiment</th>\n",
       "    </tr>\n",
       "  </thead>\n",
       "  <tbody>\n",
       "    <tr>\n",
       "      <th>0</th>\n",
       "      <td>0</td>\n",
       "      <td>Wow. Yall needa step it up @Apple RT @heynyla:...</td>\n",
       "      <td>-1</td>\n",
       "      <td>negative</td>\n",
       "      <td>positive</td>\n",
       "    </tr>\n",
       "    <tr>\n",
       "      <th>1</th>\n",
       "      <td>1</td>\n",
       "      <td>What Happened To Apple Inc?   http://t.co/FJEX...</td>\n",
       "      <td>0</td>\n",
       "      <td>neutral</td>\n",
       "      <td>neutral</td>\n",
       "    </tr>\n",
       "    <tr>\n",
       "      <th>2</th>\n",
       "      <td>2</td>\n",
       "      <td>Thank u @apple I can now compile all of the pi...</td>\n",
       "      <td>1</td>\n",
       "      <td>positive</td>\n",
       "      <td>positive</td>\n",
       "    </tr>\n",
       "  </tbody>\n",
       "</table>\n",
       "</div>"
      ],
      "text/plain": [
       "   id                                               text  sentiment  \\\n",
       "0   0  Wow. Yall needa step it up @Apple RT @heynyla:...         -1   \n",
       "1   1  What Happened To Apple Inc?   http://t.co/FJEX...          0   \n",
       "2   2  Thank u @apple I can now compile all of the pi...          1   \n",
       "\n",
       "  human_sentiment vader_sentiment  \n",
       "0        negative        positive  \n",
       "1         neutral         neutral  \n",
       "2        positive        positive  "
      ]
     },
     "execution_count": 12,
     "metadata": {},
     "output_type": "execute_result"
    }
   ],
   "source": [
    "# Get the VADER sentiments\n",
    "analyzer = SentimentIntensityAnalyzer()\n",
    "apple_tweets['vader_sentiment'] = apple_tweets.apply(lambda row: get_vader_sentiment(analyzer, row['text']), axis=1)\n",
    "apple_tweets.head(3)"
   ]
  },
  {
   "cell_type": "code",
   "execution_count": 13,
   "metadata": {},
   "outputs": [
    {
     "data": {
      "text/html": [
       "<div>\n",
       "<style scoped>\n",
       "    .dataframe tbody tr th:only-of-type {\n",
       "        vertical-align: middle;\n",
       "    }\n",
       "\n",
       "    .dataframe tbody tr th {\n",
       "        vertical-align: top;\n",
       "    }\n",
       "\n",
       "    .dataframe thead th {\n",
       "        text-align: right;\n",
       "    }\n",
       "</style>\n",
       "<table border=\"1\" class=\"dataframe\">\n",
       "  <thead>\n",
       "    <tr style=\"text-align: right;\">\n",
       "      <th></th>\n",
       "      <th>id</th>\n",
       "      <th>text</th>\n",
       "      <th>sentiment</th>\n",
       "      <th>human_sentiment</th>\n",
       "      <th>vader_sentiment</th>\n",
       "      <th>text_blob_sentiment</th>\n",
       "    </tr>\n",
       "  </thead>\n",
       "  <tbody>\n",
       "    <tr>\n",
       "      <th>0</th>\n",
       "      <td>0</td>\n",
       "      <td>Wow. Yall needa step it up @Apple RT @heynyla:...</td>\n",
       "      <td>-1</td>\n",
       "      <td>negative</td>\n",
       "      <td>positive</td>\n",
       "      <td>positive</td>\n",
       "    </tr>\n",
       "    <tr>\n",
       "      <th>1</th>\n",
       "      <td>1</td>\n",
       "      <td>What Happened To Apple Inc?   http://t.co/FJEX...</td>\n",
       "      <td>0</td>\n",
       "      <td>neutral</td>\n",
       "      <td>neutral</td>\n",
       "      <td>neutral</td>\n",
       "    </tr>\n",
       "    <tr>\n",
       "      <th>2</th>\n",
       "      <td>2</td>\n",
       "      <td>Thank u @apple I can now compile all of the pi...</td>\n",
       "      <td>1</td>\n",
       "      <td>positive</td>\n",
       "      <td>positive</td>\n",
       "      <td>neutral</td>\n",
       "    </tr>\n",
       "  </tbody>\n",
       "</table>\n",
       "</div>"
      ],
      "text/plain": [
       "   id                                               text  sentiment  \\\n",
       "0   0  Wow. Yall needa step it up @Apple RT @heynyla:...         -1   \n",
       "1   1  What Happened To Apple Inc?   http://t.co/FJEX...          0   \n",
       "2   2  Thank u @apple I can now compile all of the pi...          1   \n",
       "\n",
       "  human_sentiment vader_sentiment text_blob_sentiment  \n",
       "0        negative        positive            positive  \n",
       "1         neutral         neutral             neutral  \n",
       "2        positive        positive             neutral  "
      ]
     },
     "execution_count": 13,
     "metadata": {},
     "output_type": "execute_result"
    }
   ],
   "source": [
    "# Get the Text Blob sentiments\n",
    "apple_tweets['text_blob_sentiment'] = apple_tweets.apply(lambda row: get_text_blob_sentiment(row['text']), axis=1)\n",
    "apple_tweets.head(3)"
   ]
  },
  {
   "cell_type": "code",
   "execution_count": 14,
   "metadata": {},
   "outputs": [],
   "source": [
    "apple_by_human = apple_tweets.groupby(['human_sentiment'])['text'].count()\n",
    "apple_by_vader = apple_tweets.groupby(['vader_sentiment'])['text'].count()\n",
    "apple_by_textblob = apple_tweets.groupby(['text_blob_sentiment'])['text'].count()"
   ]
  },
  {
   "cell_type": "code",
   "execution_count": 15,
   "metadata": {},
   "outputs": [
    {
     "data": {
      "image/png": "[encoded data removed]",
      "text/plain": [
       "<Figure size 1080x720 with 3 Axes>"
      ]
     },
     "metadata": {
      "needs_background": "light"
     },
     "output_type": "display_data"
    }
   ],
   "source": [
    "plt.subplot(1, 3, 1)\n",
    "plt.title('Apple Tweets: Sentiment Comparision', size='16')\n",
    "apple_by_human.plot.bar(fontsize=14, rot=50, alpha=0.9, figsize=(15,10), color='lightblue')\n",
    "plt.ylabel('Number of Tweets',size=14)\n",
    "h_labels = apple_by_human.values\n",
    "for i in range(3):\n",
    "    plt.text(x=i, y=h_labels[i], s=h_labels[i], size=14, rotation=45, color='black')\n",
    "plt.ylabel('Number of Tweets',size=14)\n",
    "\n",
    "plt.subplot(1, 3, 2)\n",
    "apple_by_vader.plot.bar(fontsize=14, rot=50, alpha=0.9, figsize=(15,10), color='gray')\n",
    "v_labels = apple_by_vader.values\n",
    "for i in range(3):\n",
    "    plt.text(x=i, y=v_labels[i], s=v_labels[i], size=14, rotation=45, color='black')\n",
    "plt.ylabel('Number of Tweets',size=14)\n",
    "\n",
    "plt.subplot(1, 3, 3)\n",
    "tb_labels = apple_by_textblob.values\n",
    "apple_by_textblob.plot.bar(fontsize=14, rot=50, alpha=0.9, figsize=(15,10), color='lightgreen')\n",
    "for i in range(3):\n",
    "    plt.text(x=i, y=tb_labels[i], s=tb_labels[i], size=14, rotation=45, color='black')\n",
    "\n",
    "\n",
    "plt.yticks(size=14)\n",
    "plt.tight_layout()\n",
    "plt.show()"
   ]
  },
  {
   "cell_type": "markdown",
   "metadata": {},
   "source": [
    "In this case, we notice some larger differences between the two tools. VADER and Text Blob have similar numbers of Positive Tweets but differ quite a bit on Negative and Neutral Tweets."
   ]
  },
  {
   "cell_type": "code",
   "execution_count": 16,
   "metadata": {},
   "outputs": [
    {
     "name": "stdout",
     "output_type": "stream",
     "text": [
      "33.00% VADER Negative\n",
      "34.90% VADER Neutral\n",
      "32.10% VADER Positive\n",
      "\n",
      "24.80% Text Blob Negative\n",
      "42.80% Text Blob Neutral\n",
      "32.40% Text Blob Positive\n"
     ]
    }
   ],
   "source": [
    "for items in apple_by_vader.iteritems(): \n",
    "    print(get_pretty_percent(items[1], apple_tweets.shape[0]), 'VADER ' + items[0].capitalize() )\n",
    "print(     )\n",
    "for items in apple_by_textblob.iteritems(): \n",
    "    print(get_pretty_percent(items[1], apple_tweets.shape[0]), 'Text Blob ' + items[0].capitalize() )"
   ]
  },
  {
   "cell_type": "markdown",
   "metadata": {},
   "source": [
    "Again, no big surprises. We see another noteable difference between the Human and tool sentiment labels. \n"
   ]
  },
  {
   "cell_type": "code",
   "execution_count": 17,
   "metadata": {},
   "outputs": [
    {
     "name": "stdout",
     "output_type": "stream",
     "text": [
      "39.70% of Tweets had differing Human and VADER sentiments\n",
      "42.70% of Tweets had differing Human and Text Blob sentiment\n"
     ]
    }
   ],
   "source": [
    "apple_sentiment_diff_v = apple_tweets[apple_tweets['human_sentiment'] != apple_tweets['vader_sentiment']]\n",
    "apple_sentiment_diff_tb = apple_tweets[apple_tweets['human_sentiment'] != apple_tweets['text_blob_sentiment']]\n",
    "\n",
    "print(get_pretty_percent(apple_sentiment_diff_v.shape[0], apple_tweets.shape[0]), 'of Tweets had differing Human and VADER sentiments')\n",
    "print(get_pretty_percent(apple_sentiment_diff_tb.shape[0], apple_tweets.shape[0]), 'of Tweets had differing Human and Text Blob sentiment')"
   ]
  },
  {
   "cell_type": "markdown",
   "metadata": {},
   "source": [
    "### Second opinion on Neutral?\n",
    "\n",
    "While we probably will trust the Human sentiment labels over the tool sentiment labels, we could use the tools to get a \"second opinion\" on Human-labled Neutrals.\n",
    "\n",
    "Human opinions on Neutrals might vary between human to human and even as a single human goes about labeling neutral text. Also, we might just want to create a binary classifier. These are both compelling scenarios for using the tools to get a second opinion. \n",
    "\n",
    "How might we do that? Get the sentiment from both tools and if both agree, use that sentiment in place of the Human Neutral label.  \n",
    "\n",
    "Look below to see how many Neutral tweets could be re-labeled from our two datasets.\n"
   ]
  },
  {
   "cell_type": "code",
   "execution_count": 24,
   "metadata": {},
   "outputs": [
    {
     "name": "stdout",
     "output_type": "stream",
     "text": [
      "---- Apple and Google @ SXSW Tweets -----\n",
      "28.60% of Neutral Tweets could be re-labled.\n",
      "24.50%  of Neutral Tweets could be re-labled to Positive.\n",
      "4.10%  of Neutral Tweets could be re-labled to Negative.\n"
     ]
    }
   ],
   "source": [
    "# Apple Google product SXSW tweets\n",
    "print('---- Apple and Google @ SXSW Tweets -----')\n",
    "total_neutral = tweets[tweets['human_sentiment'] == 'neutral'].shape[0]\n",
    "total_tool_agree_neutral = tweets[(tweets['human_sentiment'] == 'neutral') & (tweets['text_blob_sentiment'] != 'neutral') & (tweets['text_blob_sentiment'] == tweets['vader_sentiment'])].shape[0]\n",
    "\n",
    "print(get_pretty_percent(total_tool_agree_neutral, total_neutral) , 'of Neutral Tweets could be re-labled.')\n",
    "\n",
    "second_opinion_pos_tweets = tweets[(tweets['human_sentiment'] == 'neutral') & ((tweets['vader_sentiment'] == 'positive') & (tweets['text_blob_sentiment'] == 'positive'))]\n",
    "second_opinion_neg_tweets = tweets[(tweets['human_sentiment'] == 'neutral') & ((tweets['vader_sentiment'] == 'negative') & (tweets['text_blob_sentiment'] == 'negative'))]\n",
    "\n",
    "print(get_pretty_percent(second_opinion_pos_tweets.shape[0], \n",
    "                         tweets[(tweets['human_sentiment'] == 'neutral')].shape[0]), \n",
    "      ' of Neutral Tweets could be re-labled to Positive.')\n",
    "print(get_pretty_percent(second_opinion_neg_tweets.shape[0], \n",
    "                         tweets[(tweets['human_sentiment'] == 'neutral')].shape[0]), \n",
    "      ' of Neutral Tweets could be re-labled to Negative.')\n"
   ]
  },
  {
   "cell_type": "code",
   "execution_count": 25,
   "metadata": {},
   "outputs": [
    {
     "name": "stdout",
     "output_type": "stream",
     "text": [
      "---- Apple Tweets -----\n",
      "21.00% of Neutral Tweets could be re-labled.\n",
      "18.50%  of Neutral Tweets could be re-labled to Positive.\n",
      "2.50%  of Neutral Tweets could be re-labled to Negative.\n"
     ]
    }
   ],
   "source": [
    "# Apple tweets\n",
    "print('---- Apple Tweets -----')\n",
    "total_apple_neutral = apple_tweets[apple_tweets['human_sentiment'] == 'neutral'].shape[0]\n",
    "total_apple_tool_agree_neutral = apple_tweets[(apple_tweets['human_sentiment'] == 'neutral') & (apple_tweets['text_blob_sentiment'] != 'neutral') & (apple_tweets['text_blob_sentiment'] == apple_tweets['vader_sentiment'])].shape[0]\n",
    "\n",
    "print(get_pretty_percent(total_apple_tool_agree_neutral, total_apple_neutral) , 'of Neutral Tweets could be re-labled.')\n",
    "\n",
    "second_opinion_pos_apple_tweets = apple_tweets[(apple_tweets['human_sentiment'] == 'neutral') & (apple_tweets['vader_sentiment'] == 'positive') & (apple_tweets['text_blob_sentiment'] == 'positive') ]\n",
    "second_opinion_neg_apple_tweets = apple_tweets[(apple_tweets['human_sentiment'] == 'neutral') & (apple_tweets['vader_sentiment'] == 'negative') & (apple_tweets['text_blob_sentiment'] == 'negative') ]\n",
    "\n",
    "print(get_pretty_percent(second_opinion_pos_apple_tweets.shape[0], \n",
    "    apple_tweets[(apple_tweets['human_sentiment'] == 'neutral')].shape[0]), \n",
    "    ' of Neutral Tweets could be re-labled to Positive.')\n",
    "\n",
    "print(get_pretty_percent(second_opinion_neg_apple_tweets.shape[0], \n",
    "    apple_tweets[(apple_tweets['human_sentiment'] == 'neutral')].shape[0]),\n",
    "    ' of Neutral Tweets could be re-labled to Negative.')"
   ]
  },
  {
   "cell_type": "markdown",
   "metadata": {},
   "source": [
    "## Conclusions\n",
    "Human-labels are still the ideal text labeling solution but sentiment tools like VADER and Text Blob are certainly useful. Here are two specific cases.\n",
    "\n",
    "### CASE 1 - You need sentiment but don't have the resources to have humans label your Test/Train data.\n",
    "I would certainly consider using VADER and Text Blob together to help me label text data by hand, especially as a solo-effort. I would consider using the tool sentiment where both tools agreed and then hand label the cases where the two tools differed.\n",
    "\n",
    "### CASE 2 - You want a second opinion on Neutral text. \n",
    "Human opinions on Neutral text might vary between human to human and even as a single human goes about labeling neutral texts. Getting a \"second opinion\" would be helpful to \"standardize\" on Neutral sentiment OR if you wanted to perform binary classification on Positive or Negative and didn't want to just drop the Neutral texts.\n"
   ]
  },
  {
   "cell_type": "code",
   "execution_count": 26,
   "metadata": {},
   "outputs": [],
   "source": [
    "# Save our datasets with the added  sentiment tool labels\n",
    "tweets.to_csv('../data/sxsw_tweets_with_tool_sentiment.csv', index_label='id')\n",
    "apple_tweets.to_csv('../data/apple_tweets_with_tool_sentiment.csv', index_label='id')"
   ]
  },
  {
   "cell_type": "code",
   "execution_count": null,
   "metadata": {},
   "outputs": [],
   "source": []
  }
 ],
 "metadata": {
  "kernelspec": {
   "display_name": "flatiron",
   "language": "python",
   "name": "flatiron"
  },
  "language_info": {
   "codemirror_mode": {
    "name": "ipython",
    "version": 3
   },
   "file_extension": ".py",
   "mimetype": "text/x-python",
   "name": "python",
   "nbconvert_exporter": "python",
   "pygments_lexer": "ipython3",
   "version": "3.6.9"
  }
 },
 "nbformat": 4,
 "nbformat_minor": 2
}
